{
  "nbformat": 4,
  "nbformat_minor": 0,
  "metadata": {
    "colab": {
      "provenance": [],
      "authorship_tag": "ABX9TyOZcz4bhPZ+/yzVDdwVTRde",
      "include_colab_link": true
    },
    "kernelspec": {
      "name": "python3",
      "display_name": "Python 3"
    },
    "language_info": {
      "name": "python"
    }
  },
  "cells": [
    {
      "cell_type": "markdown",
      "metadata": {
        "id": "view-in-github",
        "colab_type": "text"
      },
      "source": [
        "<a href=\"https://colab.research.google.com/github/Ali-Farhad-Humayun/Assignment-11/blob/main/Assignment_11.ipynb\" target=\"_parent\"><img src=\"https://colab.research.google.com/assets/colab-badge.svg\" alt=\"Open In Colab\"/></a>"
      ]
    },
    {
      "cell_type": "code",
      "execution_count": null,
      "metadata": {
        "id": "7mGUaaKq_tCo"
      },
      "outputs": [],
      "source": []
    },
    {
      "cell_type": "markdown",
      "source": [
        "#Task 1:\n",
        "#Problem Statement:\n",
        "\n",
        "Explain the purpose of using the var() function in CSS. Also create two buttons with ids named primaryBtn and secondaryBtn which should be given background colors using the var() function. The color code for primaryColor is #00b7ff and secondaryColor is #6c757d.\n",
        "\n",
        "#Answer:\n",
        "\n",
        "    The var() function in CSS is used to insert the value of a custom property (CSS variable). Its main purposes are:\n",
        "\n",
        "- To enable reuse of values throughout a stylesheet\n",
        "\n",
        "- To make global style changes easier by modifying just the variable value\n",
        "\n",
        "- To create theme support in applications\n",
        "\n",
        "- To improve maintainability of CSS code"
      ],
      "metadata": {
        "id": "1bRjXlzKArKY"
      }
    }
  ]
}